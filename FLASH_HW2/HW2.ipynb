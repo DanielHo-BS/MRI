{
 "cells": [
  {
   "cell_type": "code",
   "execution_count": 1,
   "metadata": {},
   "outputs": [],
   "source": [
    "import nibabel as nib\n",
    "import math\n",
    "import numpy as np\n",
    "import os\n",
    "import glob"
   ]
  },
  {
   "cell_type": "code",
   "execution_count": 2,
   "metadata": {},
   "outputs": [],
   "source": [
    "files = glob.glob(r'IXI_aseg\\*.nii.gz')\n",
    "\n",
    "labels=[4,5,7,8,10,11,12,13,14,15,16,17,18,\n",
    "        24,26,28,30,31,43,44,46,47,49,50,51,\n",
    "        52,53,54,58,60,62,63,72,77,78,79,80,\n",
    "        81,82,85,251,252,253,254,255]\n",
    "\n",
    "\n",
    "vol_all = []\n",
    "for file in files:\n",
    "    vol = []\n",
    "    img = nib.load(file)\n",
    "    img_array = img.get_fdata()\n",
    "    factor = np.prod(img.header.get_zooms())\n",
    "    for label in labels:\n",
    "        vol.append(np.sum(img_array==label)*factor)\n",
    "    vol_all.append(vol)\n",
    "np.save('vol_all',vol_all)"
   ]
  },
  {
   "cell_type": "code",
   "execution_count": 4,
   "metadata": {},
   "outputs": [],
   "source": [
    "import pandas as pd\n",
    "\n",
    "df = pd.read_excel('IXI.xls')\n",
    "id = [int(os.path.basename(file).split('-')[0][3:6]) for file in files]"
   ]
  },
  {
   "cell_type": "code",
   "execution_count": 5,
   "metadata": {},
   "outputs": [
    {
     "name": "stdout",
     "output_type": "stream",
     "text": [
      "(500, 3)\n"
     ]
    }
   ],
   "source": [
    "vol_all = np.array(vol_all)\n",
    "arr = np.vstack((np.array(id),vol_all[:,labels.index(17)],\n",
    "                vol_all[:,labels.index(53)])).T\n",
    "print(arr.shape)"
   ]
  },
  {
   "cell_type": "code",
   "execution_count": 101,
   "metadata": {},
   "outputs": [],
   "source": [
    "df = pd.read_excel('IXI.xls')\n",
    "df.index = df['IXI_ID']\n",
    "id_new = [i for i in id if i in df['IXI_ID']]\n",
    "df_new = df.loc[id_new]\n",
    "df_new.drop_duplicates(subset='IXI_ID', keep='first', inplace=True)\n",
    "df_new.to_excel('df_new.xlsx')"
   ]
  }
 ],
 "metadata": {
  "kernelspec": {
   "display_name": "Python 3.7.0 ('MRI37')",
   "language": "python",
   "name": "python3"
  },
  "language_info": {
   "codemirror_mode": {
    "name": "ipython",
    "version": 3
   },
   "file_extension": ".py",
   "mimetype": "text/x-python",
   "name": "python",
   "nbconvert_exporter": "python",
   "pygments_lexer": "ipython3",
   "version": "3.7.0"
  },
  "orig_nbformat": 4,
  "vscode": {
   "interpreter": {
    "hash": "4d7870374b0f9662702705c0e3a8509932d6a7901a35b746ad5900f2a6470c82"
   }
  }
 },
 "nbformat": 4,
 "nbformat_minor": 2
}
