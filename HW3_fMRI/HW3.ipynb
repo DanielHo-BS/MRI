{
 "cells": [
  {
   "cell_type": "code",
   "execution_count": 1,
   "metadata": {},
   "outputs": [],
   "source": [
    "import nibabel as nib\n",
    "import pandas as pd\n",
    "import numpy as np\n",
    "import os\n",
    "import glob\n",
    "import matplotlib.pyplot as plt"
   ]
  },
  {
   "cell_type": "code",
   "execution_count": 2,
   "metadata": {},
   "outputs": [
    {
     "data": {
      "text/plain": [
       "(176, 224, 256)"
      ]
     },
     "execution_count": 2,
     "metadata": {},
     "output_type": "execute_result"
    }
   ],
   "source": [
    "# T1\n",
    "T1 = nib.load('T1/t1_mpr_ns_cor_1x1x1_.nii.gz')\n",
    "T1_array = T1.get_fdata()\n",
    "T1_array.shape"
   ]
  },
  {
   "cell_type": "code",
   "execution_count": 6,
   "metadata": {},
   "outputs": [
    {
     "data": {
      "text/plain": [
       "(64, 64, 12, 100)"
      ]
     },
     "execution_count": 6,
     "metadata": {},
     "output_type": "execute_result"
    }
   ],
   "source": [
    "# fMRI\n",
    "fMRI = nib.load('fMRI/ep2d_moco_64.nii.gz')\n",
    "fMRI_array = fMRI.get_fdata()\n",
    "fMRI_array.shape\n"
   ]
  },
  {
   "cell_type": "code",
   "execution_count": 8,
   "metadata": {},
   "outputs": [
    {
     "name": "stdout",
     "output_type": "stream",
     "text": [
      "<bound method Dataset._slice_dataset of Dataset.file_meta -------------------------------\n",
      "(0002, 0000) File Meta Information Group Length  UL: 178\n",
      "(0002, 0001) File Meta Information Version       OB: b'\\x00\\x01'\n",
      "(0002, 0002) Media Storage SOP Class UID         UI: MR Image Storage\n",
      "(0002, 0003) Media Storage SOP Instance UID      UI: 1.3.12.2.1107.5.2.32.35063.201105172052551859496090\n",
      "(0002, 0010) Transfer Syntax UID                 UI: Explicit VR Little Endian\n",
      "(0002, 0012) Implementation Class UID            UI: 1.3.12.2.1107.5.2\n",
      "(0002, 0013) Implementation Version Name         SH: 'MR_VB17A'\n",
      "-------------------------------------------------\n",
      "(0008, 0005) Specific Character Set              CS: 'ISO_IR 100'\n",
      "(0008, 0008) Image Type                          CS: ['ORIGINAL', 'PRIMARY', 'M', 'ND', 'MOSAIC']\n",
      "(0008, 0012) Instance Creation Date              DA: '20110517'\n",
      "(0008, 0013) Instance Creation Time              TM: '205328.671000'\n",
      "(0008, 0016) SOP Class UID                       UI: MR Image Storage\n",
      "(0008, 0018) SOP Instance UID                    UI: 1.3.12.2.1107.5.2.32.35063.201105172052551859496090\n",
      "(0008, 0020) Study Date                          DA: '20110517'\n",
      "(0008, 0021) Series Date                         DA: '20110517'\n",
      "(0008, 0022) Acquisition Date                    DA: '20110517'\n",
      "(0008, 0023) Content Date                        DA: '20110517'\n",
      "(0008, 0030) Study Time                          TM: '204412.828000'\n",
      "(0008, 0031) Series Time                         TM: '205328.671000'\n",
      "(0008, 0032) Acquisition Time                    TM: '205254.090000'\n",
      "(0008, 0033) Content Time                        TM: '205328.671000'\n",
      "(0008, 0050) Accession Number                    SH: ''\n",
      "(0008, 0060) Modality                            CS: 'MR'\n",
      "(0008, 0070) Manufacturer                        LO: 'SIEMENS'\n",
      "(0008, 0080) Institution Name                    LO: 'National Taiwan University Hospital'\n",
      "(0008, 0081) Institution Address                 ST: 'Chang-De Str. No.1,Trio A Tim,District,TW,ZIP'\n",
      "(0008, 0090) Referring Physician's Name          PN: '010045'\n",
      "(0008, 1010) Station Name                        SH: 'WSIMR1C1'\n",
      "(0008, 1030) Study Description                   LO: 'MRM704^Will'\n",
      "(0008, 103e) Series Description                  LO: 'ep2d_moco_64'\n",
      "(0008, 1040) Institutional Department Name       LO: 'Department'\n",
      "(0008, 1050) Performing Physician's Name         PN: '010045'\n",
      "(0008, 1090) Manufacturer's Model Name           LO: 'TrioTim'\n",
      "(0008, 1140)  Referenced Image Sequence  3 item(s) ---- \n",
      "   (0008, 1150) Referenced SOP Class UID            UI: MR Image Storage\n",
      "   (0008, 1155) Referenced SOP Instance UID         UI: 1.3.12.2.1107.5.2.32.35063.2011051720445274566894505\n",
      "   ---------\n",
      "   (0008, 1150) Referenced SOP Class UID            UI: MR Image Storage\n",
      "   (0008, 1155) Referenced SOP Instance UID         UI: 1.3.12.2.1107.5.2.32.35063.2011051720445672625194509\n",
      "   ---------\n",
      "   (0008, 1150) Referenced SOP Class UID            UI: MR Image Storage\n",
      "   (0008, 1155) Referenced SOP Instance UID         UI: 1.3.12.2.1107.5.2.32.35063.2011051720450069049694513\n",
      "   ---------\n",
      "(0010, 0010) Patient's Name                      PN: 'B20110517fmri'\n",
      "(0010, 0020) Patient ID                          LO: '11.05.17-20:43:26-STD-1.3.12.2.1107.5.2.32.35063'\n",
      "(0010, 0030) Patient's Birth Date                DA: '19910101'\n",
      "(0010, 0040) Patient's Sex                       CS: 'M'\n",
      "(0010, 1010) Patient's Age                       AS: '020Y'\n",
      "(0010, 1030) Patient's Weight                    DS: '80.0'\n",
      "(0018, 0020) Scanning Sequence                   CS: 'EP'\n",
      "(0018, 0021) Sequence Variant                    CS: 'SK'\n",
      "(0018, 0022) Scan Options                        CS: 'FS'\n",
      "(0018, 0023) MR Acquisition Type                 CS: '2D'\n",
      "(0018, 0024) Sequence Name                       SH: 'epfid2d1_64'\n",
      "(0018, 0025) Angio Flag                          CS: 'N'\n",
      "(0018, 0050) Slice Thickness                     DS: '3.0'\n",
      "(0018, 0080) Repetition Time                     DS: '1000.0'\n",
      "(0018, 0081) Echo Time                           DS: '40.0'\n",
      "(0018, 0083) Number of Averages                  DS: '1.0'\n",
      "(0018, 0084) Imaging Frequency                   DS: '123.258572'\n",
      "(0018, 0085) Imaged Nucleus                      SH: '1H'\n",
      "(0018, 0086) Echo Number(s)                      IS: '1'\n",
      "(0018, 0087) Magnetic Field Strength             DS: '3.0'\n",
      "(0018, 0088) Spacing Between Slices              DS: '3.0'\n",
      "(0018, 0089) Number of Phase Encoding Steps      IS: '64'\n",
      "(0018, 0091) Echo Train Length                   IS: '1'\n",
      "(0018, 0093) Percent Sampling                    DS: '100.0'\n",
      "(0018, 0094) Percent Phase Field of View         DS: '100.0'\n",
      "(0018, 0095) Pixel Bandwidth                     DS: '1532.0'\n",
      "(0018, 1000) Device Serial Number                LO: '35063'\n",
      "(0018, 1020) Software Versions                   LO: 'syngo MR B17'\n",
      "(0018, 1030) Protocol Name                       LO: 'ep2d_moco_64'\n",
      "(0018, 1251) Transmit Coil Name                  SH: 'Body'\n",
      "(0018, 1310) Acquisition Matrix                  US: [64, 0, 0, 64]\n",
      "(0018, 1312) In-plane Phase Encoding Direction   CS: 'COL'\n",
      "(0018, 1314) Flip Angle                          DS: '90.0'\n",
      "(0018, 1315) Variable Flip Angle Flag            CS: 'N'\n",
      "(0018, 1316) SAR                                 DS: '0.10655426628991'\n",
      "(0018, 1318) dB/dt                               DS: '0.0'\n",
      "(0018, 5100) Patient Position                    CS: 'HFS'\n",
      "(0019, 0010) Private Creator                     LO: 'SIEMENS MR HEADER'\n",
      "(0019, 1008) [CSA Image Header Type]             CS: 'IMAGE NUM 4'\n",
      "(0019, 1009) [CSA Image Header Version ??]       LO: '1.0'\n",
      "(0019, 100a) [NumberOfImagesInMosaic]            US: 12\n",
      "(0019, 100b) [SliceMeasurementDuration]          DS: '45.0'\n",
      "(0019, 100f) [GradientMode]                      SH: 'Fast*'\n",
      "(0019, 1011) [FlowCompensation]                  SH: 'No'\n",
      "(0019, 1012) [TablePositionOrigin]               SL: [0, 0, -1268]\n",
      "(0019, 1013) [ImaAbsTablePosition]               SL: [0, 0, -1268]\n",
      "(0019, 1014) [ImaRelTablePosition]               IS: [0, 0, 0]\n",
      "(0019, 1015) [SlicePosition_PCS]                 FD: [-434.05611372, -468.05613708, 8.89522171]\n",
      "(0019, 1016) [TimeAfterStart]                    DS: '0.4925'\n",
      "(0019, 1017) [SliceResolution]                   DS: '1.0'\n",
      "(0019, 1018) [RealDwellTime]                     IS: '5100'\n",
      "(0019, 1028) [BandwidthPerPixelPhaseEncode]      FD: 21.701\n",
      "(0019, 1029) [MosaicRefAcqTimes]                 FD: [492.49999999, 0.0, 572.50000001, 82.49999999, 655.0, 162.50000001, 737.49999999, 245.0, 820.00000001, 327.49999998, 899.99999999, 410.0]\n",
      "(0020, 000d) Study Instance UID                  UI: 1.3.12.2.1107.5.2.32.35063.30000011051600343001500000115\n",
      "(0020, 000e) Series Instance UID                 UI: 1.3.12.2.1107.5.2.32.35063.2011051720515580046796026.0.0.0\n",
      "(0020, 0010) Study ID                            SH: '1'\n",
      "(0020, 0011) Series Number                       IS: '3'\n",
      "(0020, 0012) Acquisition Number                  IS: '1'\n",
      "(0020, 0013) Instance Number                     IS: '1'\n",
      "(0020, 0032) Image Position (Patient)            DS: [-434.05611371994, -468.05613708496, 8.8952217102051]\n",
      "(0020, 0037) Image Orientation (Patient)         DS: [1, 0, 0, 0, 1, 0]\n",
      "(0020, 0052) Frame of Reference UID              UI: 1.3.12.2.1107.5.2.32.35063.1.20110517204413000.0.0.0\n",
      "(0020, 1040) Position Reference Indicator        LO: ''\n",
      "(0020, 1041) Slice Location                      DS: '8.8952217102051'\n",
      "(0028, 0002) Samples per Pixel                   US: 1\n",
      "(0028, 0004) Photometric Interpretation          CS: 'MONOCHROME2'\n",
      "(0028, 0010) Rows                                US: 256\n",
      "(0028, 0011) Columns                             US: 256\n",
      "(0028, 0030) Pixel Spacing                       DS: [3.4375, 3.4375]\n",
      "(0028, 0100) Bits Allocated                      US: 16\n",
      "(0028, 0101) Bits Stored                         US: 12\n",
      "(0028, 0102) High Bit                            US: 11\n",
      "(0028, 0103) Pixel Representation                US: 0\n",
      "(0028, 0106) Smallest Image Pixel Value          US: 0\n",
      "(0028, 0107) Largest Image Pixel Value           US: 989\n",
      "(0028, 1050) Window Center                       DS: '544.0'\n",
      "(0028, 1051) Window Width                        DS: '1110.0'\n",
      "(0028, 1055) Window Center & Width Explanation   LO: 'Algo1'\n",
      "(0029, 0010) Private Creator                     LO: 'SIEMENS CSA HEADER'\n",
      "(0029, 0011) Private Creator                     LO: 'SIEMENS MEDCOM HEADER2'\n",
      "(0029, 1008) [CSA Image Header Type]             CS: 'IMAGE NUM 4'\n",
      "(0029, 1009) [CSA Image Header Version]          LO: '20110517'\n",
      "(0029, 1010) [CSA Image Header Info]             OB: Array of 10080 elements\n",
      "(0029, 1018) [CSA Series Header Type]            CS: 'MR'\n",
      "(0029, 1019) [CSA Series Header Version]         LO: '20110517'\n",
      "(0029, 1020) [CSA Series Header Info]            OB: Array of 60276 elements\n",
      "(0029, 1160) [Series Workflow Status]            LO: 'com'\n",
      "(0032, 1032) Requesting Physician                PN: '010045'\n",
      "(0032, 1060) Requested Procedure Description     LO: 'MRM704 Will'\n",
      "(0040, 0244) Performed Procedure Step Start Date DA: '20110517'\n",
      "(0040, 0245) Performed Procedure Step Start Time TM: '204412.921000'\n",
      "(0040, 0253) Performed Procedure Step ID         SH: 'MR20110517204412'\n",
      "(0040, 0254) Performed Procedure Step Descriptio LO: 'MRM704^Will'\n",
      "(0051, 0010) Private Creator                     LO: 'SIEMENS MR HEADER'\n",
      "(0051, 1008) [CSA Image Header Type]             CS: 'IMAGE NUM 4'\n",
      "(0051, 1009) [CSA Image Header Version ??]       LO: '1.0'\n",
      "(0051, 100a) [Unknown]                           LO: 'TA 00.04'\n",
      "(0051, 100b) [AcquisitionMatrixText]             LO: '64*64'\n",
      "(0051, 100c) [Unknown]                           LO: 'FoV 880*880'\n",
      "(0051, 100e) [Unknown]                           LO: 'Tra'\n",
      "(0051, 100f) [CoilString]                        LO: 'C:HEA;HEP'\n",
      "(0051, 1012) [Unknown]                           SH: 'TP 0'\n",
      "(0051, 1013) [PositivePCSDirections]             SH: '+LPH'\n",
      "(0051, 1015) [Unknown]                           SH: 'D'\n",
      "(0051, 1016) [Unknown]                           LO: 'M/ND/MOSAIC'\n",
      "(0051, 1017) [Unknown]                           SH: 'SL 3.0'\n",
      "(0051, 1019) [Unknown]                           LO: 'A1/FS'\n",
      "(7fe0, 0010) Pixel Data                          OW: Array of 131072 elements>\n"
     ]
    }
   ],
   "source": [
    "from pydicom import dcmread\n",
    "from pydicom.data import get_testdata_files\n",
    "filename = 'fMRI/3-1.ima'\n",
    "ds = dcmread(filename)\n",
    "\n",
    "print(ds._slice_dataset)"
   ]
  }
 ],
 "metadata": {
  "kernelspec": {
   "display_name": "Python 3.7.13 ('MRI37')",
   "language": "python",
   "name": "python3"
  },
  "language_info": {
   "codemirror_mode": {
    "name": "ipython",
    "version": 3
   },
   "file_extension": ".py",
   "mimetype": "text/x-python",
   "name": "python",
   "nbconvert_exporter": "python",
   "pygments_lexer": "ipython3",
   "version": "3.7.13"
  },
  "orig_nbformat": 4,
  "vscode": {
   "interpreter": {
    "hash": "cd83ce649579bfcdff99b6fc87039529d807e34ded3b40961131b80ea02abe1c"
   }
  }
 },
 "nbformat": 4,
 "nbformat_minor": 2
}
